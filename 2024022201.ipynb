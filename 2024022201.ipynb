{
 "cells": [
  {
   "cell_type": "code",
   "execution_count": 2,
   "id": "1ea61e59",
   "metadata": {
    "ExecuteTime": {
     "end_time": "2024-02-22T06:41:53.767968200Z",
     "start_time": "2024-02-22T06:41:52.694518200Z"
    }
   },
   "outputs": [
    {
     "data": {
      "text/plain": "200"
     },
     "execution_count": 2,
     "metadata": {},
     "output_type": "execute_result"
    }
   ],
   "source": [
    "import requests\n",
    "headers={\"User-Agent\":\"Mozilla/5.0 (Macintosh; Intel Mac OS X 10_15_7) AppleWebKit/537.36 (KHTML, like Gecko) Chrome/116.0.0.0 Safari/537.36\", \n",
    "         \"Accept\":\"application/json;charset=utf-8\" \n",
    "        }\n",
    "url=\"https://www.dongchedi.com/auto/series/5820\"\n",
    "\n",
    "\n",
    "response = requests.get(url=url, headers=headers)\n",
    "response.status_code"
   ]
  },
  {
   "cell_type": "code",
   "execution_count": 3,
   "id": "e687612e",
   "metadata": {
    "scrolled": false,
    "ExecuteTime": {
     "end_time": "2024-02-22T06:41:55.003733400Z",
     "start_time": "2024-02-22T06:41:54.988115400Z"
    }
   },
   "outputs": [
    {
     "data": {
      "text/plain": "{'User-Agent': 'Mozilla/5.0 (Macintosh; Intel Mac OS X 10_15_7) AppleWebKit/537.36 (KHTML, like Gecko) Chrome/116.0.0.0 Safari/537.36', 'Accept-Encoding': 'gzip, deflate', 'Accept': 'application/json;charset=utf-8', 'Connection': 'keep-alive'}"
     },
     "execution_count": 3,
     "metadata": {},
     "output_type": "execute_result"
    }
   ],
   "source": [
    "response.request.headers"
   ]
  },
  {
   "cell_type": "code",
   "execution_count": 4,
   "id": "02975c83",
   "metadata": {
    "ExecuteTime": {
     "end_time": "2024-02-22T06:42:06.379731300Z",
     "start_time": "2024-02-22T06:42:06.361731400Z"
    }
   },
   "outputs": [
    {
     "name": "stdout",
     "output_type": "stream",
     "text": [
      "<!DOCTYPE html><html lang=\"zh-cn\" style=\"filter:none\"><head><meta http-equiv=\"x-ua-compatible\" content=\"IE=edge\"/><link rel=\"preconnect\" href=\"//p3.dcarimg.com\"/><link rel=\"preconnect\" href=\"//lf3-motor.dcarstatic.com\"/><link rel=\"dns-prefetch\" href=\"//www.google.cn\"/><link rel=\"dns-prefetch\" href=\"//www.google.com\"/><link rel=\"dns-prefetch\" href=\"//z6.cnzz.com\"/><link rel=\"dns-prefetch\" href=\"//restapi.amap.com\"/><link rel=\"dns-prefetch\" href=\"//cnzz.mmstat.com\"/><link rel=\"dns-prefetch\" href=\"//data.bytedance.com\"/><link rel=\"dns-prefetch\" href=\"//www.google-analytics.com\"/><meta http-equiv=\"Content-Security-Policy\" content=\"default-src &#x27;self&#x27; *.yhgfb-cn-static.com *.zijieapi.com *.ibytedapm.com *.bytetcc.com *.bytescm.com *.bytecdn.cn *.bytedanceapi.com *.bytetos.com *.toutiao.com *.dcarimg.com *.dcarstatic.com *.bytedance.net *.dcarimg.com *.snssdk.com *.dcdapp.com *.amap.com *.bytedance.com *.ixigua.com *.google-analytics.com stats.g.doubleclick.net vod.bytedanceapi.com \n"
     ]
    }
   ],
   "source": [
    "print(response.text[:1000])"
   ]
  },
  {
   "cell_type": "code",
   "execution_count": 5,
   "id": "120114d2",
   "metadata": {
    "ExecuteTime": {
     "end_time": "2024-02-22T06:42:09.595047100Z",
     "start_time": "2024-02-22T06:42:09.549763300Z"
    }
   },
   "outputs": [
    {
     "name": "stdout",
     "output_type": "stream",
     "text": [
      "<Selector query=None data='<html lang=\"zh-cn\" style=\"filter:none...'>\n"
     ]
    }
   ],
   "source": [
    "import parsel\n",
    "selector=parsel.Selector(response.text)\n",
    "print(selector)"
   ]
  },
  {
   "cell_type": "code",
   "execution_count": 7,
   "id": "bcf65c71",
   "metadata": {
    "ExecuteTime": {
     "end_time": "2024-02-22T06:43:59.862928100Z",
     "start_time": "2024-02-22T06:43:59.846211400Z"
    }
   },
   "outputs": [
    {
     "name": "stdout",
     "output_type": "stream",
     "text": [
      "1\n"
     ]
    }
   ],
   "source": [
    "car = selector.css('div#carModels')\n",
    "print(len(car))"
   ]
  },
  {
   "cell_type": "code",
   "execution_count": 110,
   "id": "2b33ef16",
   "metadata": {},
   "outputs": [],
   "source": [
    "ul = car.css(\"ul\")\n",
    "num=0\n",
    "for cars in car:\n",
    "    num+=1\n",
    "    car_energy=car.css('div.jsx-3056992443 table_thead__3SCmw table_th__YAY7N::attr(title)').get()\n",
    "    car_name=car.css('div.jsx-1226022265 line-2 tw-text-16 tw-flex tw-items-center a:attr(title)').get()\n",
    "    car_link=car.css('div.jsx-1226022265 line-2 tw-text-16 tw-flex tw-items-center a:attr(href)').get()\n",
    "    car_zd_price=car.css('div.tw-text-color-gray-800 tw-text-16::text').get()\n",
    "    car_jx_price=car.css('div.jtw-text-color-red-500::text').get()\n",
    "    print(f'{num}\\t{car_name}\\t{car_link}\\t{car_zd_price}\\t{car_jx_price}')\n",
    "    \n"
   ]
  },
  {
   "cell_type": "code",
   "execution_count": 125,
   "id": "48e60d9e",
   "metadata": {},
   "outputs": [
    {
     "name": "stdout",
     "output_type": "stream",
     "text": [
      "<Element html at 0x12776adc0>\n",
      "[<Element div at 0x12776ac80>]\n"
     ]
    }
   ],
   "source": [
    "###试了一下xpath也不太对\n",
    "\n",
    "from lxml import etree\n",
    "headers={\"User-Agent\":\"Mozilla/5.0 (Macintosh; Intel Mac OS X 10_15_7) AppleWebKit/537.36 (KHTML, like Gecko) Chrome/116.0.0.0 Safari/537.36\", \n",
    "         \"Accept\":\"application/json;charset=utf-8\" \n",
    "        }\n",
    "url=\"https://www.dongchedi.com/auto/series/4899\"\n",
    "page_text = requests.get(url=url,headers=headers).content.decode('utf-8')\n",
    "html_tree=etree.HTML(response.text)\n",
    "elemnt=html_tree.xpath('//*[@id=\"carModels\"]')\n",
    "print(html_tree)\n",
    "print(elemnt)\n"
   ]
  },
  {
   "cell_type": "code",
   "execution_count": null,
   "id": "6e2f8d05",
   "metadata": {},
   "outputs": [],
   "source": []
  }
 ],
 "metadata": {
  "kernelspec": {
   "display_name": "Python 3 (ipykernel)",
   "language": "python",
   "name": "python3"
  },
  "language_info": {
   "codemirror_mode": {
    "name": "ipython",
    "version": 3
   },
   "file_extension": ".py",
   "mimetype": "text/x-python",
   "name": "python",
   "nbconvert_exporter": "python",
   "pygments_lexer": "ipython3",
   "version": "3.11.5"
  }
 },
 "nbformat": 4,
 "nbformat_minor": 5
}
